{
 "cells": [
  {
   "cell_type": "markdown",
   "metadata": {},
   "source": [
    "## Classes in python"
   ]
  },
  {
   "cell_type": "code",
   "execution_count": 1,
   "metadata": {},
   "outputs": [],
   "source": [
    "import random\n",
    "class Park:\n",
    "\n",
    "    def __init__(self):\n",
    "        self.animals = []\n",
    "\n",
    "    def __str__(self):\n",
    "        representation = 'Printing list of animals in park:\\n'\n",
    "        for x in self.animals:\n",
    "            representation += f'{x}\\n'\n",
    "        return representation"
   ]
  },
  {
   "cell_type": "code",
   "execution_count": 2,
   "metadata": {},
   "outputs": [],
   "source": [
    "class Dinosaur:\n",
    "\n",
    "    # Make the class initialisable.\n",
    "    def __init__(self, *args):\n",
    "        self.dinosaur_name = args[0]\n",
    "        self.dinosaur_type = args[1]\n",
    "        self.sound = args[2]\n",
    "        self.food_type = args[3]\n",
    "        self.gender = args[4]\n",
    "\n",
    "    # Make the Dinosaur class callable.\n",
    "    def __call__(self):\n",
    "        return f'Name: {self.__dinosaur_name}, Type: {self.__dinosaur_type}, Sound: {self.__sound}, ' \\\n",
    "               f'Food type: {self.__food_type}, Gender: {self.__gender} '\n",
    "\n",
    "    # Make the Dinosaur class addable.\n",
    "    def __add__(self, other):\n",
    "        if self.__gender == other.__gender:\n",
    "            return 'No new dinosaur was made!'\n",
    "        name = self.__dinosaur_name[:int(len(self.__dinosaur_name) / 2)] + \\\n",
    "               other.__dinosaur_name[-int(len(other.__dinosaur_name) / 2):]\n",
    "        type = self.__dinosaur_type[:int(len(self.__dinosaur_type) / 2)] + \\\n",
    "               other.__dinosaur_type[-int(len(other.__dinosaur_type) / 2):]\n",
    "        sound = self.__sound[:int(len(self.__sound) / 2)] + other.__sound[-int(len(other.__sound) / 2):]\n",
    "        if random.uniform(0, 1) == 0:\n",
    "            gender = 'female'\n",
    "        else:\n",
    "            gender = 'male'\n",
    "        if self.__food_type == other.__food_type:\n",
    "            return f'{self.__dinosaur_name} & {other.__dinosaur_name} made a new dinosaur: \\n' \\\n",
    "                   f'\\u001b[31mName:\\u001b[0m {name}, \\u001b[32mType:\\u001b[0m {type}, \\u001b[33mSound:\\u001b[0m ' \\\n",
    "                   f'{sound}, \\u001b[35mFood type:\\u001b[0m {self.__food_type}, \\u001b[36mGender:\\u001b[0m {gender}'\n",
    "        if self.__food_type != other.__food_type:\n",
    "            return f'{self.__dinosaur_name} & {other.__dinosaur_name} made a new dinosaur: \\n' \\\n",
    "                   f'\\u001b[31mName:\\u001b[0m {name}, \\u001b[32mType:\\u001b[0m {type}, \\u001b[33mSound:\\u001b[0m ' \\\n",
    "                   f'{sound}, \\u001b[35mFood type:\\u001b[0m Omnivore, \\u001b[36mGender:\\u001b[0m {gender}'\n",
    "\n",
    "    # Make a string representation of the dinosaur.\n",
    "    def __str__(self):\n",
    "        return f'\\u001b[31mName:\\u001b[0m {self.__dinosaur_name}, \\u001b[32mType:\\u001b[0m {self.__dinosaur_type}, ' \\\n",
    "               f'\\u001b[33mSound:\\u001b[0m {self.__sound}, \\u001b[35mFood type:\\u001b[0m {self.__food_type}, ' \\\n",
    "               f'\\u001b[36mGender:\\u001b[0m {self.__gender} '\n",
    "\n",
    "    \n",
    "    # Dinosaur Name getters and setters.\n",
    "    \n",
    "    @property\n",
    "    def dinosaur_name(self):\n",
    "        return self.__dinosaur_name\n",
    "\n",
    "    @dinosaur_name.setter\n",
    "    def dinosaur_name(self, dinosaur_name):\n",
    "        self.__dinosaur_name = dinosaur_name\n",
    "\n",
    "    # Dinosaur Type getters and setters.\n",
    "    @property\n",
    "    def dinosaur_type(self):\n",
    "        return self.__dinosaur_type\n",
    "\n",
    "    @dinosaur_type.setter\n",
    "    def dinosaur_type(self, dinosaur_type):\n",
    "        self.__dinosaur_type = dinosaur_type\n",
    "\n",
    "    # Sound getters and setters.\n",
    "    @property\n",
    "    def sound(self):\n",
    "        return self.__sound\n",
    "\n",
    "    @sound.setter\n",
    "    def sound(self, sound):\n",
    "        self.__sound = sound\n",
    "\n",
    "    # Food type getters and setters.\n",
    "    @property\n",
    "    def food_type(self):\n",
    "        return self.__food_type\n",
    "\n",
    "    @food_type.setter\n",
    "    def food_type(self, food_type):\n",
    "        self.__food_type = food_type\n",
    "\n",
    "    # Gender getters and setters.\n",
    "    @property\n",
    "    def gender(self):\n",
    "        return self.__gender\n",
    "\n",
    "    @gender.setter\n",
    "    def gender(self, gender):\n",
    "        self.__gender = gender\n"
   ]
  },
  {
   "cell_type": "markdown",
   "metadata": {},
   "source": [
    "#### Creating a park"
   ]
  },
  {
   "cell_type": "code",
   "execution_count": 3,
   "metadata": {},
   "outputs": [],
   "source": [
    "park = Park()"
   ]
  },
  {
   "cell_type": "markdown",
   "metadata": {},
   "source": [
    "#### # Creating a couple of dinosaurs."
   ]
  },
  {
   "cell_type": "code",
   "execution_count": 4,
   "metadata": {},
   "outputs": [],
   "source": [
    "raptor = Dinosaur('Raptuella', 'Raptor', 'Rhaaarr', 'Carnivore', 'Male')\n",
    "brachiosaurus = Dinosaur('Brandon', 'Brachiosaurus', 'Mhhuuurrrh', 'Herbivore', 'Female')\n",
    "coloradisaurus = Dinosaur('Conrad', 'Coloradisaurus', 'Mvih Mvah', 'Omnivore', 'Female')"
   ]
  },
  {
   "cell_type": "markdown",
   "metadata": {},
   "source": [
    "#### # Putting dinosaurs in park"
   ]
  },
  {
   "cell_type": "code",
   "execution_count": 5,
   "metadata": {},
   "outputs": [],
   "source": [
    "park.animals.append(raptor)\n",
    "park.animals.append(brachiosaurus)\n",
    "park.animals.append(coloradisaurus)"
   ]
  },
  {
   "cell_type": "markdown",
   "metadata": {},
   "source": [
    "#### Using  __str__  function for Park."
   ]
  },
  {
   "cell_type": "code",
   "execution_count": 6,
   "metadata": {},
   "outputs": [
    {
     "name": "stdout",
     "output_type": "stream",
     "text": [
      "Printing list of animals in park:\n",
      "\u001b[31mName:\u001b[0m Raptuella, \u001b[32mType:\u001b[0m Raptor, \u001b[33mSound:\u001b[0m Rhaaarr, \u001b[35mFood type:\u001b[0m Carnivore, \u001b[36mGender:\u001b[0m Male \n",
      "\u001b[31mName:\u001b[0m Brandon, \u001b[32mType:\u001b[0m Brachiosaurus, \u001b[33mSound:\u001b[0m Mhhuuurrrh, \u001b[35mFood type:\u001b[0m Herbivore, \u001b[36mGender:\u001b[0m Female \n",
      "\u001b[31mName:\u001b[0m Conrad, \u001b[32mType:\u001b[0m Coloradisaurus, \u001b[33mSound:\u001b[0m Mvih Mvah, \u001b[35mFood type:\u001b[0m Omnivore, \u001b[36mGender:\u001b[0m Female \n",
      "\n"
     ]
    }
   ],
   "source": [
    "print(park)"
   ]
  },
  {
   "cell_type": "markdown",
   "metadata": {},
   "source": [
    "#### Using __call__ function."
   ]
  },
  {
   "cell_type": "code",
   "execution_count": 7,
   "metadata": {},
   "outputs": [
    {
     "name": "stdout",
     "output_type": "stream",
     "text": [
      "\u001b[31mName:\u001b[0m Raptuella, \u001b[32mType:\u001b[0m Raptor, \u001b[33mSound:\u001b[0m Rhaaarr, \u001b[35mFood type:\u001b[0m Carnivore, \u001b[36mGender:\u001b[0m Male \n"
     ]
    }
   ],
   "source": [
    "print(raptor)"
   ]
  },
  {
   "cell_type": "markdown",
   "metadata": {},
   "source": [
    "#### # Using __add__ function. (To make new types of dinosaurs)"
   ]
  },
  {
   "cell_type": "code",
   "execution_count": 8,
   "metadata": {},
   "outputs": [
    {
     "name": "stdout",
     "output_type": "stream",
     "text": [
      "Brandon & Raptuella made a new dinosaur: \n",
      "\u001b[31mName:\u001b[0m Braella, \u001b[32mType:\u001b[0m Brachitor, \u001b[33mSound:\u001b[0m Mhhuuarr, \u001b[35mFood type:\u001b[0m Omnivore, \u001b[36mGender:\u001b[0m male\n",
      "Conrad & Raptuella made a new dinosaur: \n",
      "\u001b[31mName:\u001b[0m Conella, \u001b[32mType:\u001b[0m Coloradtor, \u001b[33mSound:\u001b[0m Mviharr, \u001b[35mFood type:\u001b[0m Omnivore, \u001b[36mGender:\u001b[0m male\n",
      "Raptuella & Conrad made a new dinosaur: \n",
      "\u001b[31mName:\u001b[0m Raptrad, \u001b[32mType:\u001b[0m Rapisaurus, \u001b[33mSound:\u001b[0m RhaMvah, \u001b[35mFood type:\u001b[0m Omnivore, \u001b[36mGender:\u001b[0m male\n",
      "Raptuella & Brandon made a new dinosaur: \n",
      "\u001b[31mName:\u001b[0m Raptdon, \u001b[32mType:\u001b[0m Rapsaurus, \u001b[33mSound:\u001b[0m Rhaurrrh, \u001b[35mFood type:\u001b[0m Omnivore, \u001b[36mGender:\u001b[0m male\n",
      "No new dinosaur was made!\n"
     ]
    }
   ],
   "source": [
    "print(brachiosaurus + raptor)\n",
    "print(coloradisaurus + raptor)\n",
    "print(raptor + coloradisaurus)\n",
    "print(raptor + brachiosaurus)\n",
    "print(coloradisaurus + brachiosaurus)"
   ]
  },
  {
   "cell_type": "markdown",
   "metadata": {},
   "source": [
    "## Inheritance"
   ]
  },
  {
   "cell_type": "code",
   "execution_count": 9,
   "metadata": {},
   "outputs": [],
   "source": [
    "class Person:\n",
    "    def __init__(self, *args):\n",
    "        self.__name = args[0]\n",
    "        self.__surname = \"Henriksen\"\n",
    "\n",
    "    @property\n",
    "    def name(self):\n",
    "        return self.__name\n",
    "\n",
    "    @name.setter\n",
    "    def name(self, name):\n",
    "        self.__name = name\n",
    "\n",
    "    @property\n",
    "    def surname(self):\n",
    "        return self.__surname\n",
    "\n",
    "    @surname.setter\n",
    "    def surname(self, surname):\n",
    "        self.__surname = surname\n",
    "    "
   ]
  },
  {
   "cell_type": "code",
   "execution_count": 10,
   "metadata": {},
   "outputs": [],
   "source": [
    "class Grandmom(Person):\n",
    "\n",
    "    def __init__(self, *args):\n",
    "        super().__init__(*args)\n",
    "        self.__cook = \"Delicious food coming up!\"\n",
    "\n",
    "    def cook(self):\n",
    "        return (f'{self.name} {self.surname}: \"{self.__cook}\"')\n"
   ]
  },
  {
   "cell_type": "code",
   "execution_count": 11,
   "metadata": {},
   "outputs": [],
   "source": [
    "class Granddad(Person):\n",
    "    def __init__(self, *args):\n",
    "        super().__init__(*args)\n",
    "        self.__tell_bad_joke = \"Telling the same old bad joke.. Again!\"\n",
    "\n",
    "    def tell_bad_joke(self):\n",
    "        return (f'{self.name} {self.surname}: \"{self.__tell_bad_joke}\"')\n",
    "\n",
    "    def fart_loudly(self):\n",
    "        return (f'{self.name} {self.surname} makes a loud fart!')\n"
   ]
  },
  {
   "cell_type": "code",
   "execution_count": 12,
   "metadata": {},
   "outputs": [],
   "source": [
    "class Mom(Grandmom):\n",
    "\n",
    "    def __init__(self, *args):\n",
    "        super().__init__(*args)\n",
    "        self.__cook_vegan = \"Im gonna make delicious vegan food...\"\n",
    "\n",
    "    def cook_vegan(self):\n",
    "        return (f'{self.name} {self.surname}: \"{self.__cook_vegan}\"')\n"
   ]
  },
  {
   "cell_type": "code",
   "execution_count": 13,
   "metadata": {},
   "outputs": [],
   "source": [
    "class Dad(Granddad):\n",
    "\n",
    "    def __init__(self, *args):\n",
    "        super().__init__(*args)\n",
    "        self.__sound_wise = \"...so you see, that's why im very wise...\"\n",
    "\n",
    "    def sound_wise(self):\n",
    "        return (f'{self.name} {self.surname}: \"{self.__sound_wise}\"')"
   ]
  },
  {
   "cell_type": "code",
   "execution_count": 14,
   "metadata": {},
   "outputs": [],
   "source": [
    "class Kid(Mom, Dad):\n",
    "    def __init__(self, *args):\n",
    "        super().__init__(*args)\n",
    "        self.__make_annoying_sounds = \"MEEEEEEEEEEEEEEEEEEEEEEEEIIIIIIIIIIIIIOOOOOOOOOUUUUUUU\"\n",
    "\n",
    "    def make_annoying_sounds(self):\n",
    "        return (f'{self.name} {self.surname}: \"{self.__make_annoying_sounds}\"')"
   ]
  },
  {
   "cell_type": "markdown",
   "metadata": {},
   "source": [
    "#### Instanciating "
   ]
  },
  {
   "cell_type": "code",
   "execution_count": 15,
   "metadata": {},
   "outputs": [],
   "source": [
    "gm = Grandmom('Marge')\n",
    "d = Dad('Peter')\n",
    "k = Kid('Jason')"
   ]
  },
  {
   "cell_type": "code",
   "execution_count": 16,
   "metadata": {},
   "outputs": [
    {
     "name": "stdout",
     "output_type": "stream",
     "text": [
      "Jason Henriksen: \"Delicious food coming up!\" \n",
      "\n",
      "Jason Henriksen: \"Im gonna make delicious vegan food...\" \n",
      "\n",
      "Jason Henriksen: \"Telling the same old bad joke.. Again!\" \n",
      "\n",
      "Jason Henriksen: \"...so you see, that's why im very wise...\" \n",
      "\n",
      "Jason Henriksen: \"MEEEEEEEEEEEEEEEEEEEEEEEEIIIIIIIIIIIIIOOOOOOOOOUUUUUUU\" \n",
      "\n"
     ]
    }
   ],
   "source": [
    "print(k.cook(), \"\\n\")\n",
    "print(k.cook_vegan(), \"\\n\")\n",
    "print(k.tell_bad_joke(), \"\\n\")\n",
    "print(k.sound_wise(), \"\\n\")\n",
    "print(k.make_annoying_sounds(), \"\\n\")"
   ]
  },
  {
   "cell_type": "markdown",
   "metadata": {},
   "source": [
    "####  Showing which methods is available to a class (Kid):"
   ]
  },
  {
   "cell_type": "code",
   "execution_count": 17,
   "metadata": {},
   "outputs": [
    {
     "name": "stdout",
     "output_type": "stream",
     "text": [
      "['cook', 'cook_vegan', 'fart_loudly', 'make_annoying_sounds', 'sound_wise', 'tell_bad_joke']\n",
      "['fart_loudly', 'sound_wise', 'tell_bad_joke']\n",
      "['fart_loudly', 'tell_bad_joke']\n"
     ]
    }
   ],
   "source": [
    "print([x for x in dir(Kid) if callable(getattr(Kid, x)) if not x.startswith('__')])\n",
    "print([x for x in dir(Dad) if callable(getattr(Dad, x)) if not x.startswith('__')])\n",
    "print([x for x in dir(Granddad) if callable(getattr(Granddad, x)) if not x.startswith('__')])"
   ]
  },
  {
   "cell_type": "markdown",
   "metadata": {},
   "source": [
    "### "
   ]
  },
  {
   "cell_type": "markdown",
   "metadata": {},
   "source": [
    "#### Bank example\n"
   ]
  },
  {
   "cell_type": "code",
   "execution_count": 18,
   "metadata": {},
   "outputs": [],
   "source": [
    "from random import randrange\n",
    "class Bank:\n",
    "    def __init__(self, name):\n",
    "        self.name = name\n",
    "        self.accounts = []\n",
    "\n",
    "    def __repr__(self):\n",
    "        return f'{self.__dict__}'\n",
    "\n",
    "    def __call__(self, *args, **kwargs):\n",
    "        print(\"\\u001b[31mUsing callable method to show accounts in bank:\\u001b[0m\")\n",
    "        for x in self.accounts:\n",
    "            print(x)\n",
    "        print('\\u001b[32m--------------------\\u001b[0m')"
   ]
  },
  {
   "cell_type": "code",
   "execution_count": 19,
   "metadata": {},
   "outputs": [],
   "source": [
    "class Account:\n",
    "    def __init__(self, customer, money):\n",
    "        self.customer = customer\n",
    "        self.number = randrange(10000001, 99999999)\n",
    "        self.money = money\n",
    "\n",
    "    def __repr__(self):\n",
    "        return f'{self.__dict__}'\n",
    "\n",
    "    def __str__(self):\n",
    "        return f'\\u001b[32m------Customer------\\n\\u001b[0m{self.customer}\\nAccount number: {self.number}\\nAccount ' \\\n",
    "               f'amount: {self.money} $'\n",
    "\n",
    "    def withdraw(self, amount):\n",
    "        self.money -= amount\n",
    "        print(f'{self.customer.name} has withdrawn {amount} $')\n",
    "\n",
    "    def deposit(self, amount):\n",
    "        self.money += amount\n",
    "        print(f'{self.customer.name} has deposited {amount} $')\n",
    "\n",
    "    def __call__(self, *args, **kwargs):\n",
    "        print(self.__str__())"
   ]
  },
  {
   "cell_type": "code",
   "execution_count": 20,
   "metadata": {},
   "outputs": [],
   "source": [
    "class Customer:\n",
    "    def __init__(self, name, age):\n",
    "        self.name = name\n",
    "        self.age = age\n",
    "\n",
    "    def __repr__(self):\n",
    "        return f'{self.__dict__}'\n",
    "\n",
    "    def __str__(self):\n",
    "        return f'Name: {self.name}\\nAge: {self.age} years'\n"
   ]
  },
  {
   "cell_type": "code",
   "execution_count": 21,
   "metadata": {},
   "outputs": [],
   "source": [
    "b = Bank('Nordea')"
   ]
  },
  {
   "cell_type": "code",
   "execution_count": 22,
   "metadata": {},
   "outputs": [
    {
     "data": {
      "text/plain": [
       "{'name': 'Nordea', 'accounts': []}"
      ]
     },
     "execution_count": 22,
     "metadata": {},
     "output_type": "execute_result"
    }
   ],
   "source": [
    "b"
   ]
  },
  {
   "cell_type": "markdown",
   "metadata": {},
   "source": [
    "#### Inserting into bank"
   ]
  },
  {
   "cell_type": "code",
   "execution_count": 23,
   "metadata": {},
   "outputs": [],
   "source": [
    "b.accounts.append(Account(Customer('Hugo', 35), 800))\n",
    "b.accounts.append(Account(Customer('Anders', 63), 95831))"
   ]
  },
  {
   "cell_type": "code",
   "execution_count": 24,
   "metadata": {},
   "outputs": [
    {
     "data": {
      "text/plain": [
       "{'name': 'Nordea', 'accounts': [{'customer': {'name': 'Hugo', 'age': 35}, 'number': 92765529, 'money': 800}, {'customer': {'name': 'Anders', 'age': 63}, 'number': 38206507, 'money': 95831}]}"
      ]
     },
     "execution_count": 24,
     "metadata": {},
     "output_type": "execute_result"
    }
   ],
   "source": [
    "b"
   ]
  },
  {
   "cell_type": "code",
   "execution_count": 25,
   "metadata": {},
   "outputs": [
    {
     "data": {
      "text/plain": [
       "[{'customer': {'name': 'Hugo', 'age': 35}, 'number': 92765529, 'money': 800},\n",
       " {'customer': {'name': 'Anders', 'age': 63}, 'number': 38206507, 'money': 95831}]"
      ]
     },
     "execution_count": 25,
     "metadata": {},
     "output_type": "execute_result"
    }
   ],
   "source": [
    "b.accounts"
   ]
  },
  {
   "cell_type": "code",
   "execution_count": 26,
   "metadata": {},
   "outputs": [
    {
     "name": "stdout",
     "output_type": "stream",
     "text": [
      "92765529\n",
      "Hugo\n"
     ]
    }
   ],
   "source": [
    "print(b.accounts[0].number)\n",
    "print(b.accounts[0].customer.name)"
   ]
  },
  {
   "cell_type": "code",
   "execution_count": 27,
   "metadata": {},
   "outputs": [],
   "source": [
    "c = Customer('Peter', 25)"
   ]
  },
  {
   "cell_type": "code",
   "execution_count": 28,
   "metadata": {},
   "outputs": [],
   "source": [
    "b.accounts.append(Account(c, 12329))"
   ]
  },
  {
   "cell_type": "code",
   "execution_count": 29,
   "metadata": {},
   "outputs": [
    {
     "name": "stdout",
     "output_type": "stream",
     "text": [
      "64525108\n",
      "Peter\n"
     ]
    }
   ],
   "source": [
    "print(b.accounts[2].number)\n",
    "print(b.accounts[2].customer.name)"
   ]
  },
  {
   "cell_type": "code",
   "execution_count": 30,
   "metadata": {},
   "outputs": [
    {
     "data": {
      "text/plain": [
       "{'name': 'Nordea', 'accounts': [{'customer': {'name': 'Hugo', 'age': 35}, 'number': 92765529, 'money': 800}, {'customer': {'name': 'Anders', 'age': 63}, 'number': 38206507, 'money': 95831}, {'customer': {'name': 'Peter', 'age': 25}, 'number': 64525108, 'money': 12329}]}"
      ]
     },
     "execution_count": 30,
     "metadata": {},
     "output_type": "execute_result"
    }
   ],
   "source": [
    "b"
   ]
  },
  {
   "cell_type": "code",
   "execution_count": 31,
   "metadata": {},
   "outputs": [
    {
     "name": "stdout",
     "output_type": "stream",
     "text": [
      "Hugo has withdrawn 800 $\n",
      "Hugo has deposited 1700 $\n",
      "Anders has deposited 2700 $\n",
      "Peter has withdrawn 2100 $\n"
     ]
    }
   ],
   "source": [
    "b.accounts[0].withdraw(800)\n",
    "b.accounts[0].deposit(1700)\n",
    "b.accounts[1].deposit(2700)\n",
    "b.accounts[2].withdraw(2100)"
   ]
  },
  {
   "cell_type": "code",
   "execution_count": 32,
   "metadata": {},
   "outputs": [
    {
     "data": {
      "text/plain": [
       "10229"
      ]
     },
     "execution_count": 32,
     "metadata": {},
     "output_type": "execute_result"
    }
   ],
   "source": [
    "b.accounts[2].money"
   ]
  }
 ],
 "metadata": {
  "kernelspec": {
   "display_name": "Python 3",
   "language": "python",
   "name": "python3"
  },
  "language_info": {
   "codemirror_mode": {
    "name": "ipython",
    "version": 3
   },
   "file_extension": ".py",
   "mimetype": "text/x-python",
   "name": "python",
   "nbconvert_exporter": "python",
   "pygments_lexer": "ipython3",
   "version": "3.8.6"
  }
 },
 "nbformat": 4,
 "nbformat_minor": 4
}
