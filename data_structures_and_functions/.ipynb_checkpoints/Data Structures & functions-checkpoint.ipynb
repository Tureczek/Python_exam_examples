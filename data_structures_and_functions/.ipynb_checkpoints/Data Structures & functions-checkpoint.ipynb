{
 "cells": [
  {
   "cell_type": "markdown",
   "metadata": {},
   "source": [
    "## Functions"
   ]
  },
  {
   "cell_type": "code",
   "execution_count": 1,
   "metadata": {},
   "outputs": [
    {
     "name": "stdout",
     "output_type": "stream",
     "text": [
      "Hello, World!\n"
     ]
    }
   ],
   "source": [
    "def hello_function():\n",
    "    print('Hello, World!')\n",
    "\n",
    "hello_function()"
   ]
  },
  {
   "cell_type": "code",
   "execution_count": 2,
   "metadata": {},
   "outputs": [
    {
     "name": "stdout",
     "output_type": "stream",
     "text": [
      "Hello, World!\n"
     ]
    }
   ],
   "source": [
    "def hello_return():\n",
    "    return 'Hello, World!'\n",
    "print(hello_return())"
   ]
  },
  {
   "cell_type": "markdown",
   "metadata": {},
   "source": [
    "### Parameters in function"
   ]
  },
  {
   "cell_type": "code",
   "execution_count": 3,
   "metadata": {},
   "outputs": [
    {
     "name": "stdout",
     "output_type": "stream",
     "text": [
      "Hello Nicholas Tureczek\n"
     ]
    }
   ],
   "source": [
    "def func_para(firstname, surname):\n",
    "    print(f'Hello {firstname} {surname}')\n",
    "\n",
    "func_para('Nicholas', 'Tureczek')"
   ]
  },
  {
   "cell_type": "code",
   "execution_count": 4,
   "metadata": {},
   "outputs": [
    {
     "name": "stdout",
     "output_type": "stream",
     "text": [
      "Here comes all the arguments\n",
      "('I can', 'write', 'a', 'lot of arguments', 'in here')\n"
     ]
    }
   ],
   "source": [
    "def arg_para(*args):\n",
    "    print('Here comes all the arguments\\n' + str(args))\n",
    "arg_para('I can', 'write', 'a', 'lot of arguments', 'in here')"
   ]
  },
  {
   "cell_type": "code",
   "execution_count": 5,
   "metadata": {},
   "outputs": [
    {
     "name": "stdout",
     "output_type": "stream",
     "text": [
      "The same as arguments, but here it is becoming a key-value pair in a set{'brand': 'Ford', 'model': 'Mustang', 'year': 1964}\n"
     ]
    }
   ],
   "source": [
    "def kwargs_para(**kwargs):\n",
    "    print('The same as arguments, but here it is becoming a key-value pair in a set' + str(kwargs))\n",
    "kwargs_para(brand = 'Ford',model = 'Mustang', year = 1964)"
   ]
  },
  {
   "cell_type": "markdown",
   "metadata": {},
   "source": [
    "### Lambda expression"
   ]
  },
  {
   "cell_type": "code",
   "execution_count": 6,
   "metadata": {},
   "outputs": [
    {
     "name": "stdout",
     "output_type": "stream",
     "text": [
      "100\n",
      "25\n"
     ]
    }
   ],
   "source": [
    "plus_lambda = lambda a, b : a + b\n",
    "multiply_lambda = lambda x, y : x * y\n",
    "\n",
    "print(plus_lambda(10,90))\n",
    "print(multiply_lambda(5, 5))"
   ]
  },
  {
   "cell_type": "markdown",
   "metadata": {},
   "source": [
    "## Data Structures"
   ]
  },
  {
   "cell_type": "markdown",
   "metadata": {},
   "source": [
    "### Lists\n",
    "\n",
    "- Ordered\n",
    "- Mutable\n",
    "- Dynamic\n",
    "\n",
    "myList = [val, val, val, val]"
   ]
  },
  {
   "cell_type": "code",
   "execution_count": 7,
   "metadata": {},
   "outputs": [],
   "source": [
    "myList = [1, True, \"name\", [\"name1\", \"name2\"], hello_function]"
   ]
  },
  {
   "cell_type": "code",
   "execution_count": 8,
   "metadata": {},
   "outputs": [
    {
     "data": {
      "text/plain": [
       "[1, True, 'name', ['name1', 'name2'], <function __main__.hello_function()>]"
      ]
     },
     "execution_count": 8,
     "metadata": {},
     "output_type": "execute_result"
    }
   ],
   "source": [
    "myList"
   ]
  },
  {
   "cell_type": "markdown",
   "metadata": {},
   "source": [
    "### Operating on a list in python"
   ]
  },
  {
   "cell_type": "code",
   "execution_count": 9,
   "metadata": {},
   "outputs": [
    {
     "name": "stdout",
     "output_type": "stream",
     "text": [
      "Accessing data in myList: 1\n",
      "Accessing data in myList: <function hello_function at 0x7fd2501c70d0>\n"
     ]
    }
   ],
   "source": [
    "print(f'Accessing data in myList: {myList[0]}')\n",
    "print(f'Accessing data in myList: {myList[-1]}')"
   ]
  },
  {
   "cell_type": "code",
   "execution_count": 10,
   "metadata": {
    "scrolled": true
   },
   "outputs": [
    {
     "name": "stdout",
     "output_type": "stream",
     "text": [
      "Changing data in myList:\n"
     ]
    },
    {
     "data": {
      "text/plain": [
       "['Changed item',\n",
       " True,\n",
       " 'name',\n",
       " ['name1', 'name2'],\n",
       " <function __main__.hello_function()>]"
      ]
     },
     "execution_count": 10,
     "metadata": {},
     "output_type": "execute_result"
    }
   ],
   "source": [
    "print('Changing data in myList:')\n",
    "myList[0] = 'Changed item'\n",
    "myList"
   ]
  },
  {
   "cell_type": "code",
   "execution_count": 11,
   "metadata": {},
   "outputs": [
    {
     "name": "stdout",
     "output_type": "stream",
     "text": [
      "Split and change item in myList\n"
     ]
    },
    {
     "data": {
      "text/plain": [
       "['Changed item',\n",
       " 'Splitted changed item',\n",
       " 'Added new item',\n",
       " 'name',\n",
       " ['name1', 'name2'],\n",
       " <function __main__.hello_function()>]"
      ]
     },
     "execution_count": 11,
     "metadata": {},
     "output_type": "execute_result"
    }
   ],
   "source": [
    "print('Split and change item in myList')\n",
    "myList[1:2] = ['Splitted changed item', 'Added new item']\n",
    "myList"
   ]
  },
  {
   "cell_type": "code",
   "execution_count": 12,
   "metadata": {},
   "outputs": [
    {
     "data": {
      "text/plain": [
       "['Changed item',\n",
       " 'Splitted changed item',\n",
       " 'inserted item',\n",
       " 'Added new item',\n",
       " 'name',\n",
       " ['name1', 'name2'],\n",
       " <function __main__.hello_function()>,\n",
       " 'extended item',\n",
       " 'myList',\n",
       " 'appended item']"
      ]
     },
     "execution_count": 12,
     "metadata": {},
     "output_type": "execute_result"
    }
   ],
   "source": [
    "myList.insert(2, 'inserted item')           # == myList[2:2] = ['inserted item']\n",
    "myList.extend(['extended item', 'myList'])  # == myList += ['extended item', 'myList']\n",
    "myList.append('appended item')              # == myList += ['Appended item']\n",
    "myList"
   ]
  },
  {
   "cell_type": "markdown",
   "metadata": {},
   "source": [
    "### Tuples\n",
    "- Collection\n",
    "- Ordered\n",
    "- Immutable\n",
    "\n",
    "myTuple = (val, val, val, val)"
   ]
  },
  {
   "cell_type": "code",
   "execution_count": 13,
   "metadata": {},
   "outputs": [],
   "source": [
    "myTuple = (1, 'Hello', 3, 4)\n",
    "myTuple2 = (5, 5, \"banana\")"
   ]
  },
  {
   "cell_type": "code",
   "execution_count": 14,
   "metadata": {},
   "outputs": [
    {
     "name": "stdout",
     "output_type": "stream",
     "text": [
      "<class 'tuple'>\n"
     ]
    },
    {
     "data": {
      "text/plain": [
       "(1, 'Hello', 3, 4)"
      ]
     },
     "execution_count": 14,
     "metadata": {},
     "output_type": "execute_result"
    }
   ],
   "source": [
    "print(type(myTuple))\n",
    "myTuple"
   ]
  },
  {
   "cell_type": "markdown",
   "metadata": {},
   "source": [
    "### Operating on a tuple in python"
   ]
  },
  {
   "cell_type": "code",
   "execution_count": 15,
   "metadata": {},
   "outputs": [
    {
     "name": "stdout",
     "output_type": "stream",
     "text": [
      "Accessing data in myTuple: 1\n"
     ]
    }
   ],
   "source": [
    "print(f'Accessing data in myTuple: {myTuple[0]}')"
   ]
  },
  {
   "cell_type": "code",
   "execution_count": 16,
   "metadata": {},
   "outputs": [
    {
     "ename": "TypeError",
     "evalue": "'tuple' object does not support item assignment",
     "output_type": "error",
     "traceback": [
      "\u001b[0;31m---------------------------------------------------------------------------\u001b[0m",
      "\u001b[0;31mTypeError\u001b[0m                                 Traceback (most recent call last)",
      "\u001b[0;32m<ipython-input-16-d0208e5aaa0d>\u001b[0m in \u001b[0;36m<module>\u001b[0;34m\u001b[0m\n\u001b[0;32m----> 1\u001b[0;31m \u001b[0mmyTuple\u001b[0m\u001b[0;34m[\u001b[0m\u001b[0;36m0\u001b[0m\u001b[0;34m]\u001b[0m \u001b[0;34m=\u001b[0m \u001b[0;36m4\u001b[0m\u001b[0;34m\u001b[0m\u001b[0;34m\u001b[0m\u001b[0m\n\u001b[0m",
      "\u001b[0;31mTypeError\u001b[0m: 'tuple' object does not support item assignment"
     ]
    }
   ],
   "source": [
    "myTuple[0] = 4"
   ]
  },
  {
   "cell_type": "code",
   "execution_count": 17,
   "metadata": {},
   "outputs": [
    {
     "data": {
      "text/plain": [
       "(1, 'Hello', 3, 4, 5, 5, 'banana')"
      ]
     },
     "execution_count": 17,
     "metadata": {},
     "output_type": "execute_result"
    }
   ],
   "source": [
    "tempTuple = myTuple + myTuple2\n",
    "\n",
    "tempTuple"
   ]
  },
  {
   "cell_type": "code",
   "execution_count": 18,
   "metadata": {},
   "outputs": [
    {
     "data": {
      "text/plain": [
       "('Changed', 'Hello', 3, 4, 5, 5, 'banana')"
      ]
     },
     "execution_count": 18,
     "metadata": {},
     "output_type": "execute_result"
    }
   ],
   "source": [
    "tempList = list(tempTuple)\n",
    "tempList[0] = \"Changed\"\n",
    "tempTuple = tuple(tempList)\n",
    "\n",
    "tempTuple"
   ]
  },
  {
   "cell_type": "markdown",
   "metadata": {},
   "source": [
    "#### Packing / Unpacking"
   ]
  },
  {
   "cell_type": "code",
   "execution_count": 19,
   "metadata": {},
   "outputs": [],
   "source": [
    "(s1, s2, s3, s4) = myTuple"
   ]
  },
  {
   "cell_type": "code",
   "execution_count": 20,
   "metadata": {},
   "outputs": [
    {
     "data": {
      "text/plain": [
       "1"
      ]
     },
     "execution_count": 20,
     "metadata": {},
     "output_type": "execute_result"
    }
   ],
   "source": [
    "s1"
   ]
  },
  {
   "cell_type": "code",
   "execution_count": 21,
   "metadata": {},
   "outputs": [
    {
     "data": {
      "text/plain": [
       "'Hello'"
      ]
     },
     "execution_count": 21,
     "metadata": {},
     "output_type": "execute_result"
    }
   ],
   "source": [
    "s2"
   ]
  },
  {
   "cell_type": "code",
   "execution_count": 22,
   "metadata": {},
   "outputs": [
    {
     "data": {
      "text/plain": [
       "3"
      ]
     },
     "execution_count": 22,
     "metadata": {},
     "output_type": "execute_result"
    }
   ],
   "source": [
    "s3"
   ]
  },
  {
   "cell_type": "code",
   "execution_count": 23,
   "metadata": {},
   "outputs": [
    {
     "data": {
      "text/plain": [
       "4"
      ]
     },
     "execution_count": 23,
     "metadata": {},
     "output_type": "execute_result"
    }
   ],
   "source": [
    "s4"
   ]
  },
  {
   "cell_type": "markdown",
   "metadata": {},
   "source": [
    "## "
   ]
  },
  {
   "cell_type": "markdown",
   "metadata": {},
   "source": [
    "### Set\n",
    "- Unordered\n",
    "- Mutable\n",
    "- No Duplicates\n",
    "\n",
    "mySet = {val, val, val, val}"
   ]
  },
  {
   "cell_type": "code",
   "execution_count": 24,
   "metadata": {},
   "outputs": [],
   "source": [
    "mySet = {1, 2, 3, 4, 4, 'banana'}\n",
    "mySet2 = {5, 6, 7, 1, 2, 3}"
   ]
  },
  {
   "cell_type": "code",
   "execution_count": 25,
   "metadata": {},
   "outputs": [
    {
     "name": "stdout",
     "output_type": "stream",
     "text": [
      "Accessing data from mySet: {1, 2, 3, 4, 'banana'}\n",
      "Accessing data from mySet: {'banana'}\n"
     ]
    }
   ],
   "source": [
    "print('Accessing data from mySet:', {x for x in mySet})\n",
    "print('Accessing data from mySet:', {x for x in mySet if x == 'banana'})"
   ]
  },
  {
   "cell_type": "markdown",
   "metadata": {},
   "source": [
    "### Operations on Set"
   ]
  },
  {
   "cell_type": "code",
   "execution_count": 26,
   "metadata": {
    "scrolled": true
   },
   "outputs": [
    {
     "data": {
      "text/plain": [
       "False"
      ]
     },
     "execution_count": 26,
     "metadata": {},
     "output_type": "execute_result"
    }
   ],
   "source": [
    "mySet.isdisjoint(mySet2)"
   ]
  },
  {
   "cell_type": "code",
   "execution_count": 27,
   "metadata": {},
   "outputs": [
    {
     "data": {
      "text/plain": [
       "{1, 2, 3}"
      ]
     },
     "execution_count": 27,
     "metadata": {},
     "output_type": "execute_result"
    }
   ],
   "source": [
    "mySet.intersection(mySet2) # if disjoint is False they have something in common"
   ]
  },
  {
   "cell_type": "code",
   "execution_count": 28,
   "metadata": {},
   "outputs": [
    {
     "data": {
      "text/plain": [
       "{1, 2, 3, 4, 5, 6, 7, 'banana'}"
      ]
     },
     "execution_count": 28,
     "metadata": {},
     "output_type": "execute_result"
    }
   ],
   "source": [
    "mySet.union(mySet2)"
   ]
  },
  {
   "cell_type": "code",
   "execution_count": 29,
   "metadata": {},
   "outputs": [
    {
     "name": "stdout",
     "output_type": "stream",
     "text": [
      "{4, 'banana'}\n",
      "{5, 6, 7}\n"
     ]
    }
   ],
   "source": [
    "print(mySet.difference(mySet2))\n",
    "print(mySet2.difference(mySet))"
   ]
  },
  {
   "cell_type": "code",
   "execution_count": 30,
   "metadata": {},
   "outputs": [
    {
     "data": {
      "text/plain": [
       "{4, 5, 6, 7, 'banana'}"
      ]
     },
     "execution_count": 30,
     "metadata": {},
     "output_type": "execute_result"
    }
   ],
   "source": [
    "mySet.symmetric_difference(mySet2)"
   ]
  },
  {
   "cell_type": "code",
   "execution_count": 31,
   "metadata": {},
   "outputs": [],
   "source": [
    "mySet.update(mySet2)"
   ]
  },
  {
   "cell_type": "code",
   "execution_count": 32,
   "metadata": {},
   "outputs": [
    {
     "data": {
      "text/plain": [
       "{1, 2, 3, 4, 5, 6, 7, 'banana'}"
      ]
     },
     "execution_count": 32,
     "metadata": {},
     "output_type": "execute_result"
    }
   ],
   "source": [
    "mySet"
   ]
  },
  {
   "cell_type": "code",
   "execution_count": 33,
   "metadata": {},
   "outputs": [
    {
     "data": {
      "text/plain": [
       "{1, 2, 3, 4, 5, 6, 7}"
      ]
     },
     "execution_count": 33,
     "metadata": {},
     "output_type": "execute_result"
    }
   ],
   "source": [
    "mySet.remove('banana')\n",
    "mySet"
   ]
  },
  {
   "cell_type": "code",
   "execution_count": 34,
   "metadata": {},
   "outputs": [
    {
     "data": {
      "text/plain": [
       "1"
      ]
     },
     "execution_count": 34,
     "metadata": {},
     "output_type": "execute_result"
    }
   ],
   "source": [
    "mySet.pop()"
   ]
  },
  {
   "cell_type": "code",
   "execution_count": 35,
   "metadata": {},
   "outputs": [
    {
     "data": {
      "text/plain": [
       "{2, 3, 4, 5, 6, 7}"
      ]
     },
     "execution_count": 35,
     "metadata": {},
     "output_type": "execute_result"
    }
   ],
   "source": [
    "mySet"
   ]
  },
  {
   "cell_type": "markdown",
   "metadata": {},
   "source": [
    "## "
   ]
  },
  {
   "cell_type": "markdown",
   "metadata": {},
   "source": [
    "### Dict\n",
    "\n",
    "- Ordered\n",
    "- Immutable\n",
    "- Key - Value\n",
    "- No duplicates\n",
    "\n",
    "    myDict = {\n",
    "          \"key\": \"value\",\n",
    "          \"key\": \"value\",\n",
    "          \"key\": \"value\"\n",
    "    }"
   ]
  },
  {
   "cell_type": "code",
   "execution_count": 36,
   "metadata": {},
   "outputs": [],
   "source": [
    "myDict = {\n",
    "    \"brand\": \"Ford\",\n",
    "    \"model\": \"Mustang\",\n",
    "    \"year\": 1964\n",
    "}"
   ]
  },
  {
   "cell_type": "code",
   "execution_count": 37,
   "metadata": {},
   "outputs": [
    {
     "name": "stdout",
     "output_type": "stream",
     "text": [
      "Mustang\n",
      "1964\n"
     ]
    }
   ],
   "source": [
    "print(myDict.get('model'))\n",
    "print(myDict.get('year'))"
   ]
  },
  {
   "cell_type": "code",
   "execution_count": 38,
   "metadata": {},
   "outputs": [],
   "source": [
    "myDict.update({'year': '2020'})"
   ]
  },
  {
   "cell_type": "code",
   "execution_count": 39,
   "metadata": {},
   "outputs": [
    {
     "name": "stdout",
     "output_type": "stream",
     "text": [
      "Mustang\n",
      "2020\n"
     ]
    }
   ],
   "source": [
    "print(myDict.get('model'))\n",
    "print(myDict.get('year'))"
   ]
  },
  {
   "cell_type": "code",
   "execution_count": 40,
   "metadata": {},
   "outputs": [],
   "source": [
    "myDict['color'] = \"Blue\""
   ]
  },
  {
   "cell_type": "code",
   "execution_count": 41,
   "metadata": {},
   "outputs": [
    {
     "data": {
      "text/plain": [
       "{'brand': 'Ford', 'model': 'Mustang', 'year': '2020', 'color': 'Blue'}"
      ]
     },
     "execution_count": 41,
     "metadata": {},
     "output_type": "execute_result"
    }
   ],
   "source": [
    "myDict"
   ]
  },
  {
   "cell_type": "code",
   "execution_count": 42,
   "metadata": {},
   "outputs": [
    {
     "data": {
      "text/plain": [
       "dict_keys(['brand', 'model', 'year', 'color'])"
      ]
     },
     "execution_count": 42,
     "metadata": {},
     "output_type": "execute_result"
    }
   ],
   "source": [
    "myDict.keys()"
   ]
  },
  {
   "cell_type": "code",
   "execution_count": 43,
   "metadata": {},
   "outputs": [
    {
     "data": {
      "text/plain": [
       "dict_values(['Ford', 'Mustang', '2020', 'Blue'])"
      ]
     },
     "execution_count": 43,
     "metadata": {},
     "output_type": "execute_result"
    }
   ],
   "source": [
    "myDict.values()"
   ]
  },
  {
   "cell_type": "markdown",
   "metadata": {},
   "source": [
    "### Loops and list comprehension\n",
    "\n",
    "    [ expression for val in collection ]\n",
    "    [ expression for val in collection if <statement> ]\n",
    "    [ expression for val in collection if <statement_1> and <statement_2> ]\n",
    "    [ expression for value1 in collection_1 and value2 in val in collection_2 ]"
   ]
  },
  {
   "cell_type": "markdown",
   "metadata": {},
   "source": [
    "#### For loop vs list comprehension"
   ]
  },
  {
   "cell_type": "code",
   "execution_count": 44,
   "metadata": {},
   "outputs": [
    {
     "name": "stdout",
     "output_type": "stream",
     "text": [
      "[1, 2, 3, 4, 5, 6, 7, 8, 9, 10]\n"
     ]
    }
   ],
   "source": [
    "loopList = []\n",
    "\n",
    "for i in range(1, 11):\n",
    "    loopList.append(i)\n",
    "print(loopList)"
   ]
  },
  {
   "cell_type": "code",
   "execution_count": 45,
   "metadata": {},
   "outputs": [
    {
     "data": {
      "text/plain": [
       "[1, 2, 3, 4, 5, 6, 7, 8, 9, 10]"
      ]
     },
     "execution_count": 45,
     "metadata": {},
     "output_type": "execute_result"
    }
   ],
   "source": [
    "[num for num in range(1, 11)]"
   ]
  },
  {
   "cell_type": "code",
   "execution_count": 46,
   "metadata": {},
   "outputs": [],
   "source": [
    "import time\n",
    "import functools\n",
    "\n",
    "def timer(func):\n",
    "    @functools.wraps(func)\n",
    "    def wrapper_timer(*args):\n",
    "        start_time = time.perf_counter()\n",
    "        value = func(*args)\n",
    "        end_time = time.perf_counter()\n",
    "        runtime = end_time - start_time\n",
    "        print(f'Finished {func.__name__!r} in {runtime:4f} seconds')\n",
    "        return value\n",
    "\n",
    "    return wrapper_timer"
   ]
  },
  {
   "cell_type": "code",
   "execution_count": 47,
   "metadata": {},
   "outputs": [],
   "source": [
    "@timer\n",
    "def for_loop():\n",
    "    numbers = []\n",
    "    for num in range(1000000):\n",
    "        numbers.append(num)\n",
    "        \n",
    "@timer\n",
    "def list_comprehension():\n",
    "    [num for num in range(1000000)]"
   ]
  },
  {
   "cell_type": "code",
   "execution_count": 48,
   "metadata": {},
   "outputs": [
    {
     "name": "stdout",
     "output_type": "stream",
     "text": [
      "Finished 'for_loop' in 0.107647 seconds\n",
      "None\n",
      "Finished 'list_comprehension' in 0.054040 seconds\n",
      "None\n"
     ]
    }
   ],
   "source": [
    "print(for_loop())\n",
    "\n",
    "print(list_comprehension())"
   ]
  },
  {
   "cell_type": "code",
   "execution_count": 49,
   "metadata": {},
   "outputs": [
    {
     "name": "stdout",
     "output_type": "stream",
     "text": [
      "found with regular loop: ['Ghostbusters', 'Gattaca', 'Gandhi']\n",
      "found with list comprehension: ['Avatar', 'Amandas Vacation']\n"
     ]
    }
   ],
   "source": [
    "def myList_Comprehension():\n",
    "    movies1 = [\"Avatar\", \"Babe watch\", \"Ghostbusters\", \"Amandas Vacation\", \"Gattaca\", \"Star wars\", \"Gandhi\"]\n",
    "    foundMovies1 = []\n",
    "\n",
    "    for title in movies1:\n",
    "        if title.startswith(\"G\"):\n",
    "            foundMovies1.append(title)\n",
    "    print(f'found with regular loop: {foundMovies1}')\n",
    "\n",
    "\n",
    "\n",
    "    movies2 = [\"Avatar\", \"Babe watch\", \"Ghostbusters\", \"Amandas Vacation\", \"Gattaca\", \"Star wars\", \"Gandhi\"]\n",
    "    foundMovies = [title for title in movies2 if title.startswith(\"A\")]\n",
    "\n",
    "    print(f'found with list comprehension: {foundMovies}')\n",
    "myList_Comprehension()"
   ]
  },
  {
   "cell_type": "code",
   "execution_count": 50,
   "metadata": {},
   "outputs": [
    {
     "name": "stdout",
     "output_type": "stream",
     "text": [
      "['Avatar', 'Babe watch', 'Amandas Vacation', 'Gattaca', 'Star wars']\n"
     ]
    }
   ],
   "source": [
    "# Each element in the forloop is a Tuple, then we check if the year is under 2000 and print only the title\n",
    "def myList_Comprehension():\n",
    "    movies1 = [(\"Avatar\", 1942), (\"Babe watch\", 1999), (\"Ghostbusters\", 2122), (\"Amandas Vacation\", 208),\n",
    "               (\"Gattaca\", 1818), (\"Star wars\", 1922), (\"Gandhi\", 2011)]\n",
    "\n",
    "    foundMoviesByYear = [title for (title, year) in movies1 if year < 2000]\n",
    "    # foundMoviesByYear = [(title, year) for (title, year) in movies1 if year < 2000]\n",
    "\n",
    "    print(foundMoviesByYear)\n",
    "myList_Comprehension()\n"
   ]
  },
  {
   "cell_type": "code",
   "execution_count": 51,
   "metadata": {},
   "outputs": [
    {
     "name": "stdout",
     "output_type": "stream",
     "text": [
      "myList * 4 [2, -5, 8, 2, -5, 8, 2, -5, 8, 2, -5, 8]\n",
      "myList2 with comprehension [8, -20, 32]\n"
     ]
    }
   ],
   "source": [
    "\n",
    "def myList_Comprehension():\n",
    "    myList1 = [2, -5, 8]\n",
    "    print(f\"myList * 4 {myList1 * 4}\")\n",
    "\n",
    "    myList2 = [4 * x for x in myList1]\n",
    "    print(f\"myList2 with comprehension {myList2}\")\n",
    "\n",
    "myList_Comprehension()"
   ]
  }
 ],
 "metadata": {
  "kernelspec": {
   "display_name": "Python 3",
   "language": "python",
   "name": "python3"
  },
  "language_info": {
   "codemirror_mode": {
    "name": "ipython",
    "version": 3
   },
   "file_extension": ".py",
   "mimetype": "text/x-python",
   "name": "python",
   "nbconvert_exporter": "python",
   "pygments_lexer": "ipython3",
   "version": "3.8.6"
  }
 },
 "nbformat": 4,
 "nbformat_minor": 4
}
